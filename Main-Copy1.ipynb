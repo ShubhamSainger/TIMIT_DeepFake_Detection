{
 "cells": [
  {
   "cell_type": "code",
   "execution_count": 8,
   "id": "39b58b5a-636c-4d7e-ab8b-62512c264e70",
   "metadata": {},
   "outputs": [
    {
     "name": "stdout",
     "output_type": "stream",
     "text": [
      "Note: you may need to restart the kernel to use updated packages.Collecting numpy<2.0\n",
      "  Downloading numpy-1.26.4-cp310-cp310-win_amd64.whl.metadata (61 kB)\n",
      "Downloading numpy-1.26.4-cp310-cp310-win_amd64.whl (15.8 MB)\n",
      "   ---------------------------------------- 0.0/15.8 MB ? eta -:--:--\n",
      "   - -------------------------------------- 0.5/15.8 MB 2.8 MB/s eta 0:00:06\n",
      "   -- ------------------------------------- 1.0/15.8 MB 2.8 MB/s eta 0:00:06\n",
      "   --- ------------------------------------ 1.6/15.8 MB 2.6 MB/s eta 0:00:06\n",
      "   ----- ---------------------------------- 2.1/15.8 MB 2.6 MB/s eta 0:00:06\n",
      "   ------- -------------------------------- 2.9/15.8 MB 2.8 MB/s eta 0:00:05\n",
      "   --------- ------------------------------ 3.7/15.8 MB 3.0 MB/s eta 0:00:05\n",
      "   ----------- ---------------------------- 4.5/15.8 MB 3.2 MB/s eta 0:00:04\n",
      "   ------------- -------------------------- 5.2/15.8 MB 3.4 MB/s eta 0:00:04\n",
      "   --------------- ------------------------ 6.3/15.8 MB 3.5 MB/s eta 0:00:03\n",
      "   ----------------- ---------------------- 7.1/15.8 MB 3.7 MB/s eta 0:00:03\n",
      "   -------------------- ------------------- 8.1/15.8 MB 3.7 MB/s eta 0:00:03\n",
      "   ---------------------- ----------------- 8.9/15.8 MB 3.8 MB/s eta 0:00:02\n",
      "   ------------------------- -------------- 10.2/15.8 MB 3.9 MB/s eta 0:00:02\n",
      "   ---------------------------- ----------- 11.3/15.8 MB 4.0 MB/s eta 0:00:02\n",
      "   ------------------------------- -------- 12.6/15.8 MB 4.1 MB/s eta 0:00:01\n",
      "   --------------------------------- ------ 13.4/15.8 MB 4.2 MB/s eta 0:00:01\n",
      "   ------------------------------------ --- 14.4/15.8 MB 4.2 MB/s eta 0:00:01\n",
      "   ---------------------------------------  15.5/15.8 MB 4.3 MB/s eta 0:00:01\n",
      "   ---------------------------------------- 15.8/15.8 MB 4.3 MB/s eta 0:00:00\n",
      "Installing collected packages: numpy\n",
      "  Attempting uninstall: numpy\n",
      "    Found existing installation: numpy 2.0.2\n",
      "    Uninstalling numpy-2.0.2:\n",
      "      Successfully uninstalled numpy-2.0.2\n",
      "Successfully installed numpy-1.26.4\n",
      "\n"
     ]
    },
    {
     "name": "stderr",
     "output_type": "stream",
     "text": [
      "  WARNING: Failed to remove contents in a temporary directory 'C:\\Users\\shubh\\anaconda3\\envs\\gpu-env\\Lib\\site-packages\\~umpy.libs'.\n",
      "  You can safely remove it manually.\n",
      "  WARNING: Failed to remove contents in a temporary directory 'C:\\Users\\shubh\\anaconda3\\envs\\gpu-env\\Lib\\site-packages\\~umpy'.\n",
      "  You can safely remove it manually.\n"
     ]
    }
   ],
   "source": [
    "pip install \"numpy<2.0\" "
   ]
  },
  {
   "cell_type": "code",
   "execution_count": 1,
   "id": "b3ae96a8-e5c6-4016-8413-d3681ddc30e8",
   "metadata": {
    "scrolled": true
   },
   "outputs": [],
   "source": [
    "import cv2\n",
    "import shutil\n",
    "import cv2\n",
    "import os\n",
    "import matplotlib.pyplot as plt\n",
    "import numpy as np\n",
    "\n",
    "from multiprocessing import Pool, cpu_count\n",
    "from mtcnn import MTCNN"
   ]
  },
  {
   "cell_type": "code",
   "execution_count": 2,
   "id": "8995ed73-5030-4dc7-bd0c-3b943555fdcd",
   "metadata": {},
   "outputs": [],
   "source": [
    "import tensorflow as tf\n",
    "import keras\n",
    "import numpy as np\n",
    "import os\n",
    "import matplotlib.pyplot as plt"
   ]
  },
  {
   "cell_type": "code",
   "execution_count": 2,
   "id": "61495512-f1ac-4523-8cd9-4314aa3c6fff",
   "metadata": {},
   "outputs": [],
   "source": [
    "cap =cv2.VideoCapture()"
   ]
  },
  {
   "cell_type": "code",
   "execution_count": 18,
   "id": "5b3754aa-4957-4668-a889-eb8bbca6e0b6",
   "metadata": {},
   "outputs": [],
   "source": [
    "path = 'Real_Data/Extracted/'"
   ]
  },
  {
   "cell_type": "code",
   "execution_count": 21,
   "id": "2ab1584e-f06a-4e38-bf72-53c4b29d80bd",
   "metadata": {},
   "outputs": [
    {
     "data": {
      "text/plain": [
       "['head',\n",
       " 'head2',\n",
       " 'head3',\n",
       " 'sa1',\n",
       " 'sa2',\n",
       " 'si1279',\n",
       " 'si1909',\n",
       " 'si649',\n",
       " 'sx109',\n",
       " 'sx19',\n",
       " 'sx199',\n",
       " 'sx289',\n",
       " 'sx379']"
      ]
     },
     "execution_count": 21,
     "metadata": {},
     "output_type": "execute_result"
    }
   ],
   "source": [
    "os.listdir(path + )"
   ]
  },
  {
   "cell_type": "code",
   "execution_count": 14,
   "id": "a6bf6396-0cef-46f2-8ac8-b184ec00f3fb",
   "metadata": {},
   "outputs": [],
   "source": [
    "dir_ = os.listdir('./Real_Data/Extracted/')"
   ]
  },
  {
   "cell_type": "code",
   "execution_count": 23,
   "id": "d42a6ee3-b06f-4218-af28-3d5fc7ca02d6",
   "metadata": {},
   "outputs": [
    {
     "data": {
      "text/plain": [
       "['fadg0',\n",
       " 'faks0',\n",
       " 'fcft0',\n",
       " 'fcmh0',\n",
       " 'fdac1',\n",
       " 'fdrd1',\n",
       " 'fedw0',\n",
       " 'felc0',\n",
       " 'fjas0',\n",
       " 'fjem0',\n",
       " 'fjre0',\n",
       " 'fjwb0',\n",
       " 'fkms0',\n",
       " 'fram1',\n",
       " 'mccs0',\n",
       " 'mcem0',\n",
       " 'mdab0',\n",
       " 'mdbb0',\n",
       " 'mdld0',\n",
       " 'mgwt0',\n",
       " 'mjar0',\n",
       " 'mjsw0',\n",
       " 'mmdb1',\n",
       " 'mmdm2',\n",
       " 'mpdf0',\n",
       " 'mpgl0',\n",
       " 'mrcz0',\n",
       " 'mrgg0',\n",
       " 'mrjo0',\n",
       " 'msjs1',\n",
       " 'mstk0',\n",
       " 'mwbt0']"
      ]
     },
     "execution_count": 23,
     "metadata": {},
     "output_type": "execute_result"
    }
   ],
   "source": [
    "dir_"
   ]
  },
  {
   "cell_type": "code",
   "execution_count": 28,
   "id": "c261c6a8-2b73-4326-b6d3-42efd2dc1383",
   "metadata": {},
   "outputs": [
    {
     "data": {
      "text/plain": [
       "['audio', 'video']"
      ]
     },
     "execution_count": 28,
     "metadata": {},
     "output_type": "execute_result"
    }
   ],
   "source": [
    "os.listdir(path + \"fadg0\")"
   ]
  },
  {
   "cell_type": "code",
   "execution_count": 39,
   "id": "98dae8d9-4d27-4f4c-8703-d81242d346cf",
   "metadata": {},
   "outputs": [
    {
     "name": "stdout",
     "output_type": "stream",
     "text": [
      "['sa1', 'sa2', 'si1279', 'si1909', 'si649', 'sx109', 'sx19', 'sx199', 'sx289', 'sx379']\n",
      "['sa1', 'sa2', 'si1573', 'si2203', 'si943', 'sx133', 'sx223', 'sx313', 'sx403', 'sx43']\n",
      "['sa1', 'sa2', 'si1178', 'si1808', 'si548', 'sx188', 'sx278', 'sx368', 'sx8', 'sx98']\n",
      "['sa1', 'sa2', 'si1454', 'si2084', 'si824', 'sx104', 'sx14', 'sx194', 'sx284', 'sx374']\n",
      "['sa1', 'sa2', 'si1474', 'si2104', 'si844', 'sx124', 'sx214', 'sx304', 'sx34', 'sx394']\n",
      "['sa1', 'sa2', 'si1544', 'si1566', 'si2149', 'sx104', 'sx14', 'sx194', 'sx284', 'sx374']\n",
      "['sa1', 'sa2', 'si1084', 'si1653', 'si1714', 'sx184', 'sx274', 'sx364', 'sx4', 'sx94']\n",
      "['sa1', 'sa2', 'si1386', 'si2016', 'si756', 'sx126', 'sx216', 'sx306', 'sx36', 'sx396']\n",
      "['sa1', 'sa2', 'si1400', 'si2030', 'si770', 'sx140', 'sx230', 'sx320', 'sx410', 'sx50']\n",
      "['sa1', 'sa2', 'si1264', 'si1894', 'si634', 'sx184', 'sx274', 'sx364', 'sx4', 'sx94']\n",
      "['sa1', 'sa2', 'si1116', 'si1587', 'si1746', 'sx126', 'sx216', 'sx306', 'sx36', 'sx396']\n",
      "['sa1', 'sa2', 'si1265', 'si635', 'si992', 'sx185', 'sx275', 'sx365', 'sx5', 'sx95']\n",
      "['sa1', 'sa2', 'si1490', 'si2120', 'si860', 'sx140', 'sx230', 'sx320', 'sx410', 'sx50']\n",
      "['sa1', 'sa2', 'si1360', 'si522', 'si730', 'sx10', 'sx100', 'sx190', 'sx280', 'sx370']\n",
      "['sa1', 'sa2', 'si1469', 'si2099', 'si839', 'sx119', 'sx209', 'sx29', 'sx299', 'sx389']\n",
      "['sa1', 'sa2', 'si1398', 'si2028', 'si768', 'sx138', 'sx228', 'sx318', 'sx408', 'sx48']\n",
      "['sa1', 'sa2', 'si1039', 'si1669', 'si2299', 'sx139', 'sx229', 'sx319', 'sx409', 'sx49']\n",
      "['sa1', 'sa2', 'si1825', 'si565', 'sx115', 'sx1195', 'sx205', 'sx25', 'sx295', 'sx385']\n",
      "['sa1', 'sa2', 'si1543', 'si2173', 'si913', 'sx103', 'sx13', 'sx193', 'sx283', 'sx373']\n",
      "['sa1', 'sa2', 'si1539', 'si2169', 'si909', 'sx189', 'sx279', 'sx369', 'sx9', 'sx99']\n",
      "['sa1', 'sa2', 'si1988', 'si2247', 'si728', 'sx188', 'sx278', 'sx368', 'sx8', 'sx98']\n",
      "['sa1', 'sa2', 'si1010', 'si1640', 'si2270', 'sx110', 'sx20', 'sx200', 'sx290', 'sx380']\n",
      "['sa1', 'sa2', 'si2255', 'si995', 'sx1625', 'sx185', 'sx275', 'sx365', 'sx5', 'sx95']\n",
      "['sa1', 'sa2', 'si1425', 'si1555', 'si2028', 'sx102', 'sx12', 'sx192', 'sx282', 'sx372']\n",
      "['sa1', 'sa2', 'si1542', 'si2172', 'si912', 'sx102', 'sx12', 'sx192', 'sx282', 'sx372']\n",
      "['sa1', 'sa2', 'si1099', 'si1729', 'si469', 'sx109', 'sx19', 'sx199', 'sx289', 'sx379']\n",
      "['sa1', 'sa2', 'si1541', 'si2171', 'si911', 'sx101', 'sx11', 'sx191', 'sx281', 'sx371']\n",
      "['sa1', 'sa2', 'si1199', 'si1829', 'si569', 'sx119', 'sx209', 'sx29', 'sx299', 'sx389']\n",
      "['sa1', 'sa2', 'si1364', 'si1624', 'si734', 'sx104', 'sx14', 'sx194', 'sx284', 'sx374']\n",
      "['sa1', 'sa2', 'si1899', 'si639', 'si869', 'sx189', 'sx279', 'sx369', 'sx9', 'sx99']\n",
      "['sa1', 'sa2', 'si1024', 'si2222', 'si2284', 'sx124', 'sx214', 'sx304', 'sx34', 'sx394']\n",
      "['sa1', 'sa2', 'si1553', 'si2183', 'si923', 'sx113', 'sx203', 'sx23', 'sx293', 'sx383']\n"
     ]
    }
   ],
   "source": [
    "for i in dir_:\n",
    "    a = i + \"/video\"\n",
    "    print(os.listdir(path + i +'/video')[3:])"
   ]
  },
  {
   "cell_type": "code",
   "execution_count": null,
   "id": "58a3a6c7-d39b-4703-a5fe-bb4effd08b23",
   "metadata": {},
   "outputs": [],
   "source": []
  },
  {
   "cell_type": "code",
   "execution_count": 18,
   "id": "3c4d3448-8d07-46bc-883c-8eb041136dd6",
   "metadata": {},
   "outputs": [],
   "source": [
    "for i in os.listdir('Real_Data/Extracted/fadg0/video/sa1'):\n",
    "    name = i + '.jpg'\n",
    "    os.rename(path + i, name)"
   ]
  },
  {
   "cell_type": "code",
   "execution_count": 37,
   "id": "b98347f5-8196-4321-b0dd-a46ef78234ca",
   "metadata": {},
   "outputs": [],
   "source": [
    "subject_ids = os.listdir(path)"
   ]
  },
  {
   "cell_type": "code",
   "execution_count": 38,
   "id": "e0caf37b-d21e-4e57-8f9d-35842ea87cb5",
   "metadata": {
    "scrolled": true
   },
   "outputs": [
    {
     "data": {
      "text/plain": [
       "['fadg0',\n",
       " 'faks0',\n",
       " 'fcft0',\n",
       " 'fcmh0',\n",
       " 'fdac1',\n",
       " 'fdrd1',\n",
       " 'fedw0',\n",
       " 'felc0',\n",
       " 'fjas0',\n",
       " 'fjem0',\n",
       " 'fjre0',\n",
       " 'fjwb0',\n",
       " 'fkms0',\n",
       " 'fram1',\n",
       " 'mccs0',\n",
       " 'mcem0',\n",
       " 'mdab0',\n",
       " 'mdbb0',\n",
       " 'mdld0',\n",
       " 'mgwt0',\n",
       " 'mjar0',\n",
       " 'mjsw0',\n",
       " 'mmdb1',\n",
       " 'mmdm2',\n",
       " 'mpdf0',\n",
       " 'mpgl0',\n",
       " 'mrcz0',\n",
       " 'mrgg0',\n",
       " 'mrjo0',\n",
       " 'msjs1',\n",
       " 'mstk0',\n",
       " 'mwbt0']"
      ]
     },
     "execution_count": 38,
     "metadata": {},
     "output_type": "execute_result"
    }
   ],
   "source": [
    "subject_ids"
   ]
  },
  {
   "cell_type": "code",
   "execution_count": 39,
   "id": "03ce574d-6249-4ae0-be6a-de5014875060",
   "metadata": {
    "scrolled": true
   },
   "outputs": [
    {
     "data": {
      "text/plain": [
       "['001.jpg',\n",
       " '002.jpg',\n",
       " '003.jpg',\n",
       " '004.jpg',\n",
       " '005.jpg',\n",
       " '006.jpg',\n",
       " '007.jpg',\n",
       " '008.jpg',\n",
       " '009.jpg',\n",
       " '010.jpg',\n",
       " '011.jpg',\n",
       " '012.jpg',\n",
       " '013.jpg',\n",
       " '014.jpg',\n",
       " '015.jpg',\n",
       " '016.jpg',\n",
       " '017.jpg',\n",
       " '018.jpg',\n",
       " '019.jpg',\n",
       " '020.jpg',\n",
       " '021.jpg',\n",
       " '022.jpg',\n",
       " '023.jpg',\n",
       " '024.jpg',\n",
       " '025.jpg',\n",
       " '026.jpg',\n",
       " '027.jpg',\n",
       " '028.jpg',\n",
       " '029.jpg',\n",
       " '030.jpg',\n",
       " '031.jpg',\n",
       " '032.jpg',\n",
       " '033.jpg',\n",
       " '034.jpg',\n",
       " '035.jpg',\n",
       " '036.jpg',\n",
       " '037.jpg',\n",
       " '038.jpg',\n",
       " '039.jpg',\n",
       " '040.jpg',\n",
       " '041.jpg',\n",
       " '042.jpg',\n",
       " '043.jpg',\n",
       " '044.jpg',\n",
       " '045.jpg',\n",
       " '046.jpg',\n",
       " '047.jpg',\n",
       " '048.jpg',\n",
       " '049.jpg',\n",
       " '050.jpg',\n",
       " '051.jpg',\n",
       " '052.jpg',\n",
       " '053.jpg',\n",
       " '054.jpg',\n",
       " '055.jpg',\n",
       " '056.jpg',\n",
       " '057.jpg',\n",
       " '058.jpg',\n",
       " '059.jpg',\n",
       " '060.jpg',\n",
       " '061.jpg',\n",
       " '062.jpg',\n",
       " '063.jpg',\n",
       " '064.jpg',\n",
       " '065.jpg',\n",
       " '066.jpg',\n",
       " '067.jpg',\n",
       " '068.jpg',\n",
       " '069.jpg',\n",
       " '070.jpg',\n",
       " '071.jpg',\n",
       " '072.jpg',\n",
       " '073.jpg',\n",
       " '074.jpg',\n",
       " '075.jpg',\n",
       " '076.jpg',\n",
       " '077.jpg',\n",
       " '078.jpg',\n",
       " '079.jpg',\n",
       " '080.jpg',\n",
       " '081.jpg',\n",
       " '082.jpg',\n",
       " '083.jpg',\n",
       " '084.jpg',\n",
       " '085.jpg',\n",
       " '086.jpg',\n",
       " '087.jpg',\n",
       " '088.jpg',\n",
       " '089.jpg',\n",
       " '090.jpg',\n",
       " '091.jpg',\n",
       " '092.jpg',\n",
       " '093.jpg',\n",
       " '094.jpg',\n",
       " '095.jpg',\n",
       " '096.jpg',\n",
       " '097.jpg',\n",
       " '098.jpg',\n",
       " '099.jpg',\n",
       " '100.jpg',\n",
       " '101.jpg',\n",
       " '102.jpg',\n",
       " '103.jpg',\n",
       " '104.jpg',\n",
       " '105.jpg',\n",
       " '106.jpg',\n",
       " '107.jpg',\n",
       " '108.jpg',\n",
       " '109.jpg',\n",
       " '110.jpg',\n",
       " '111.jpg',\n",
       " '112.jpg',\n",
       " '113.jpg',\n",
       " '114.jpg',\n",
       " '115.jpg',\n",
       " '116.jpg',\n",
       " '117.jpg',\n",
       " '118.jpg',\n",
       " '119.jpg']"
      ]
     },
     "execution_count": 39,
     "metadata": {},
     "output_type": "execute_result"
    }
   ],
   "source": [
    "os.listdir('Real_Data/Extracted/fadg0/video/sa1')"
   ]
  },
  {
   "cell_type": "code",
   "execution_count": 40,
   "id": "8ad1c548-34df-4f04-9daf-3460424f5088",
   "metadata": {},
   "outputs": [],
   "source": [
    "for subject in subject_ids:\n",
    "    new_path = path + subject + '/video/'\n",
    "    categories = os.listdir(new_path)[3:]\n",
    "    for cat in categories:\n",
    "        frames = os.listdir(new_path + cat)\n",
    "        for frame in frames:\n",
    "            frame_path = new_path + cat + '/'\n",
    "            os.rename(frame_path + frame, frame_path+frame + '.jpg')"
   ]
  },
  {
   "cell_type": "code",
   "execution_count": null,
   "id": "6306b0f9-05fc-473b-805f-bd1a3a7ef2db",
   "metadata": {},
   "outputs": [],
   "source": []
  },
  {
   "cell_type": "code",
   "execution_count": null,
   "id": "962aa9dd-74aa-4baa-95d2-326c97e172cb",
   "metadata": {},
   "outputs": [],
   "source": []
  },
  {
   "cell_type": "code",
   "execution_count": null,
   "id": "88490682-3c79-4c92-86e5-80efa4d1b86e",
   "metadata": {},
   "outputs": [],
   "source": []
  },
  {
   "cell_type": "markdown",
   "id": "000105aa-350f-4c1a-a413-b81114d77490",
   "metadata": {},
   "source": [
    "\n",
    "## ***Detecting Cordinates Of Face In Each Frame By MTCNN and Converting Videos Of Fake Dataset Into Compressed .npz***"
   ]
  },
  {
   "cell_type": "code",
   "execution_count": 7,
   "id": "f76afcd8-3b1a-4021-8c93-5463e6c6d5f0",
   "metadata": {},
   "outputs": [],
   "source": [
    "fake_data_dir = os.listdir('Fake_Data/higher_quality')[1:] # slicing to avoid directory checksum/"
   ]
  },
  {
   "cell_type": "code",
   "execution_count": 8,
   "id": "38b585eb-95a9-417d-8a12-9c37b2fda540",
   "metadata": {},
   "outputs": [],
   "source": [
    "path = 'Fake_Data/higher_quality/'"
   ]
  },
  {
   "cell_type": "code",
   "execution_count": 4,
   "id": "e6e950d7-c7e1-4274-a80d-2ebdded6cdc0",
   "metadata": {},
   "outputs": [],
   "source": [
    "detector = MTCNN()"
   ]
  },
  {
   "cell_type": "code",
   "execution_count": 45,
   "id": "f9c3847d-1cb0-40ab-8dac-e1834b70c690",
   "metadata": {},
   "outputs": [],
   "source": [
    "# Reading a video frame by frame and detecting cordinates of the face. Returning a numpy array of size (Total number of frames,244,244,3)\n",
    "\n",
    "def video_to_numpy(path):\n",
    "    array_list = []\n",
    "    cap = cv2.VideoCapture(path)\n",
    "    if cap.isOpened() == False:\n",
    "        raise RuntimeError\n",
    "\n",
    "    while cap.isOpened():\n",
    "        ret, frame = cap.read()\n",
    "    \n",
    "        if ret:\n",
    "            frame = cv2.cvtColor(frame, cv2.COLOR_BGR2RGB)\n",
    "            face = detector.detect_faces(frame)\n",
    "            if not face :\n",
    "                continue\n",
    "            col_1, row_1, col_2, row_2 = face[0]['box']\n",
    "            col_1_, row_1_, col_2_, row_2_ = col_1 - 30, row_1 - 60, col_2 + col_1 + 30, row_2 + row_1 + 20\n",
    "            frame = frame[row_1_ : row_2_, col_1_ : col_2_]\n",
    "            \n",
    "            if frame is None or frame.size == 0:\n",
    "                continue\n",
    "                \n",
    "            frame = cv2.resize(frame, dsize = (224,224))/255.0\n",
    "            array_list.append(frame)\n",
    "    \n",
    "        else: \n",
    "            break\n",
    "\n",
    "    cap.release()\n",
    "            \n",
    "    return np.array(array_list)"
   ]
  },
  {
   "cell_type": "code",
   "execution_count": 47,
   "id": "de7030e3-699a-4389-8575-026a641f8cf0",
   "metadata": {
    "scrolled": true
   },
   "outputs": [
    {
     "name": "stdout",
     "output_type": "stream",
     "text": [
      "./Fake_Data_Numpy/fcft0/sa1\n",
      "./Fake_Data_Numpy/fcft0/sa2\n",
      "./Fake_Data_Numpy/fcft0/si1178\n",
      "./Fake_Data_Numpy/fcft0/si1808\n",
      "./Fake_Data_Numpy/fcft0/si548\n",
      "./Fake_Data_Numpy/fcft0/sx188\n",
      "./Fake_Data_Numpy/fcft0/sx278\n",
      "./Fake_Data_Numpy/fcft0/sx368\n",
      "./Fake_Data_Numpy/fcft0/sx8\n",
      "./Fake_Data_Numpy/fcft0/sx98\n",
      "./Fake_Data_Numpy/fcmh0/sa1\n",
      "./Fake_Data_Numpy/fcmh0/sa2\n",
      "./Fake_Data_Numpy/fcmh0/si1454\n",
      "./Fake_Data_Numpy/fcmh0/si2084\n",
      "./Fake_Data_Numpy/fcmh0/si824\n",
      "./Fake_Data_Numpy/fcmh0/sx104\n",
      "./Fake_Data_Numpy/fcmh0/sx14\n",
      "./Fake_Data_Numpy/fcmh0/sx194\n",
      "./Fake_Data_Numpy/fcmh0/sx284\n",
      "./Fake_Data_Numpy/fcmh0/sx374\n",
      "./Fake_Data_Numpy/fdac1/sa1\n",
      "./Fake_Data_Numpy/fdac1/sa2\n",
      "./Fake_Data_Numpy/fdac1/si1474\n",
      "./Fake_Data_Numpy/fdac1/si2104\n",
      "./Fake_Data_Numpy/fdac1/si844\n",
      "./Fake_Data_Numpy/fdac1/sx124\n",
      "./Fake_Data_Numpy/fdac1/sx214\n",
      "./Fake_Data_Numpy/fdac1/sx304\n",
      "./Fake_Data_Numpy/fdac1/sx34\n",
      "./Fake_Data_Numpy/fdac1/sx394\n",
      "./Fake_Data_Numpy/fdrd1/sa1\n",
      "./Fake_Data_Numpy/fdrd1/sa2\n",
      "./Fake_Data_Numpy/fdrd1/si1544\n",
      "./Fake_Data_Numpy/fdrd1/si1566\n",
      "./Fake_Data_Numpy/fdrd1/si2149\n",
      "./Fake_Data_Numpy/fdrd1/sx104\n",
      "./Fake_Data_Numpy/fdrd1/sx14\n",
      "./Fake_Data_Numpy/fdrd1/sx194\n",
      "./Fake_Data_Numpy/fdrd1/sx284\n",
      "./Fake_Data_Numpy/fdrd1/sx374\n",
      "./Fake_Data_Numpy/fedw0/sa1\n",
      "./Fake_Data_Numpy/fedw0/sa2\n",
      "./Fake_Data_Numpy/fedw0/si1084\n",
      "./Fake_Data_Numpy/fedw0/si1653\n",
      "./Fake_Data_Numpy/fedw0/si1714\n",
      "./Fake_Data_Numpy/fedw0/sx184\n",
      "./Fake_Data_Numpy/fedw0/sx274\n",
      "./Fake_Data_Numpy/fedw0/sx364\n",
      "./Fake_Data_Numpy/fedw0/sx4\n",
      "./Fake_Data_Numpy/fedw0/sx94\n",
      "./Fake_Data_Numpy/felc0/sa1\n",
      "./Fake_Data_Numpy/felc0/sa2\n",
      "./Fake_Data_Numpy/felc0/si1386\n",
      "./Fake_Data_Numpy/felc0/si2016\n",
      "./Fake_Data_Numpy/felc0/si756\n",
      "./Fake_Data_Numpy/felc0/sx126\n",
      "./Fake_Data_Numpy/felc0/sx216\n",
      "./Fake_Data_Numpy/felc0/sx306\n",
      "./Fake_Data_Numpy/felc0/sx36\n",
      "./Fake_Data_Numpy/felc0/sx396\n",
      "./Fake_Data_Numpy/fjas0/sa1\n",
      "./Fake_Data_Numpy/fjas0/sa2\n",
      "./Fake_Data_Numpy/fjas0/si1400\n",
      "./Fake_Data_Numpy/fjas0/si2030\n",
      "./Fake_Data_Numpy/fjas0/si770\n",
      "./Fake_Data_Numpy/fjas0/sx140\n",
      "./Fake_Data_Numpy/fjas0/sx230\n",
      "./Fake_Data_Numpy/fjas0/sx320\n",
      "./Fake_Data_Numpy/fjas0/sx410\n",
      "./Fake_Data_Numpy/fjas0/sx50\n",
      "./Fake_Data_Numpy/fjem0/sa1\n",
      "./Fake_Data_Numpy/fjem0/sa2\n",
      "./Fake_Data_Numpy/fjem0/si1264\n",
      "./Fake_Data_Numpy/fjem0/si1894\n",
      "./Fake_Data_Numpy/fjem0/si634\n",
      "./Fake_Data_Numpy/fjem0/sx184\n",
      "./Fake_Data_Numpy/fjem0/sx274\n",
      "./Fake_Data_Numpy/fjem0/sx364\n",
      "./Fake_Data_Numpy/fjem0/sx4\n",
      "./Fake_Data_Numpy/fjem0/sx94\n",
      "./Fake_Data_Numpy/fjre0/sa1\n",
      "./Fake_Data_Numpy/fjre0/sa2\n",
      "./Fake_Data_Numpy/fjre0/si1116\n",
      "./Fake_Data_Numpy/fjre0/si1587\n",
      "./Fake_Data_Numpy/fjre0/si1746\n",
      "./Fake_Data_Numpy/fjre0/sx126\n",
      "./Fake_Data_Numpy/fjre0/sx216\n",
      "./Fake_Data_Numpy/fjre0/sx306\n",
      "./Fake_Data_Numpy/fjre0/sx36\n",
      "./Fake_Data_Numpy/fjre0/sx396\n",
      "./Fake_Data_Numpy/fjwb0/sa1\n",
      "./Fake_Data_Numpy/fjwb0/sa2\n",
      "./Fake_Data_Numpy/fjwb0/si1265\n",
      "./Fake_Data_Numpy/fjwb0/si635\n",
      "./Fake_Data_Numpy/fjwb0/si992\n",
      "./Fake_Data_Numpy/fjwb0/sx185\n",
      "./Fake_Data_Numpy/fjwb0/sx275\n",
      "./Fake_Data_Numpy/fjwb0/sx365\n",
      "./Fake_Data_Numpy/fjwb0/sx5\n",
      "./Fake_Data_Numpy/fjwb0/sx95\n",
      "./Fake_Data_Numpy/fkms0/sa1\n",
      "./Fake_Data_Numpy/fkms0/sa2\n",
      "./Fake_Data_Numpy/fkms0/si1490\n",
      "./Fake_Data_Numpy/fkms0/si2120\n",
      "./Fake_Data_Numpy/fkms0/si860\n",
      "./Fake_Data_Numpy/fkms0/sx140\n",
      "./Fake_Data_Numpy/fkms0/sx230\n",
      "./Fake_Data_Numpy/fkms0/sx320\n",
      "./Fake_Data_Numpy/fkms0/sx410\n",
      "./Fake_Data_Numpy/fkms0/sx50\n",
      "./Fake_Data_Numpy/fram1/sa1\n",
      "./Fake_Data_Numpy/fram1/sa2\n",
      "./Fake_Data_Numpy/fram1/si1360\n",
      "./Fake_Data_Numpy/fram1/si522\n",
      "./Fake_Data_Numpy/fram1/si730\n",
      "./Fake_Data_Numpy/fram1/sx10\n",
      "./Fake_Data_Numpy/fram1/sx100\n",
      "./Fake_Data_Numpy/fram1/sx190\n",
      "./Fake_Data_Numpy/fram1/sx280\n",
      "./Fake_Data_Numpy/fram1/sx370\n",
      "./Fake_Data_Numpy/mccs0/sa1\n",
      "./Fake_Data_Numpy/mccs0/sa2\n",
      "./Fake_Data_Numpy/mccs0/si1469\n",
      "./Fake_Data_Numpy/mccs0/si2099\n",
      "./Fake_Data_Numpy/mccs0/si839\n",
      "./Fake_Data_Numpy/mccs0/sx119\n",
      "./Fake_Data_Numpy/mccs0/sx209\n",
      "./Fake_Data_Numpy/mccs0/sx29\n",
      "./Fake_Data_Numpy/mccs0/sx299\n",
      "./Fake_Data_Numpy/mccs0/sx389\n",
      "./Fake_Data_Numpy/mcem0/sa1\n",
      "./Fake_Data_Numpy/mcem0/sa2\n",
      "./Fake_Data_Numpy/mcem0/si1398\n",
      "./Fake_Data_Numpy/mcem0/si2028\n",
      "./Fake_Data_Numpy/mcem0/si768\n",
      "./Fake_Data_Numpy/mcem0/sx138\n",
      "./Fake_Data_Numpy/mcem0/sx228\n",
      "./Fake_Data_Numpy/mcem0/sx318\n",
      "./Fake_Data_Numpy/mcem0/sx408\n",
      "./Fake_Data_Numpy/mcem0/sx48\n",
      "./Fake_Data_Numpy/mdab0/sa1\n",
      "./Fake_Data_Numpy/mdab0/sa2\n",
      "./Fake_Data_Numpy/mdab0/si1039\n",
      "./Fake_Data_Numpy/mdab0/si1669\n",
      "./Fake_Data_Numpy/mdab0/si2299\n",
      "./Fake_Data_Numpy/mdab0/sx139\n",
      "./Fake_Data_Numpy/mdab0/sx229\n",
      "./Fake_Data_Numpy/mdab0/sx319\n",
      "./Fake_Data_Numpy/mdab0/sx409\n",
      "./Fake_Data_Numpy/mdab0/sx49\n",
      "./Fake_Data_Numpy/mdbb0/sa1\n",
      "./Fake_Data_Numpy/mdbb0/sa2\n",
      "./Fake_Data_Numpy/mdbb0/si1825\n",
      "./Fake_Data_Numpy/mdbb0/si565\n",
      "./Fake_Data_Numpy/mdbb0/sx115\n",
      "./Fake_Data_Numpy/mdbb0/sx1195\n",
      "./Fake_Data_Numpy/mdbb0/sx205\n",
      "./Fake_Data_Numpy/mdbb0/sx25\n",
      "./Fake_Data_Numpy/mdbb0/sx295\n",
      "./Fake_Data_Numpy/mdbb0/sx385\n",
      "./Fake_Data_Numpy/mdld0/sa1\n",
      "./Fake_Data_Numpy/mdld0/sa2\n",
      "./Fake_Data_Numpy/mdld0/si1543\n",
      "./Fake_Data_Numpy/mdld0/si2173\n",
      "./Fake_Data_Numpy/mdld0/si913\n",
      "./Fake_Data_Numpy/mdld0/sx103\n",
      "./Fake_Data_Numpy/mdld0/sx13\n",
      "./Fake_Data_Numpy/mdld0/sx193\n",
      "./Fake_Data_Numpy/mdld0/sx283\n",
      "./Fake_Data_Numpy/mdld0/sx373\n",
      "./Fake_Data_Numpy/mgwt0/sa1\n",
      "./Fake_Data_Numpy/mgwt0/sa2\n",
      "./Fake_Data_Numpy/mgwt0/si1539\n",
      "./Fake_Data_Numpy/mgwt0/si2169\n",
      "./Fake_Data_Numpy/mgwt0/si909\n",
      "./Fake_Data_Numpy/mgwt0/sx189\n",
      "./Fake_Data_Numpy/mgwt0/sx279\n",
      "./Fake_Data_Numpy/mgwt0/sx369\n",
      "./Fake_Data_Numpy/mgwt0/sx9\n",
      "./Fake_Data_Numpy/mgwt0/sx99\n",
      "./Fake_Data_Numpy/mjar0/sa1\n",
      "./Fake_Data_Numpy/mjar0/sa2\n",
      "./Fake_Data_Numpy/mjar0/si1988\n",
      "./Fake_Data_Numpy/mjar0/si2247\n",
      "./Fake_Data_Numpy/mjar0/si728\n",
      "./Fake_Data_Numpy/mjar0/sx188\n",
      "./Fake_Data_Numpy/mjar0/sx278\n",
      "./Fake_Data_Numpy/mjar0/sx368\n",
      "./Fake_Data_Numpy/mjar0/sx8\n",
      "./Fake_Data_Numpy/mjar0/sx98\n",
      "./Fake_Data_Numpy/mjsw0/sa1\n",
      "./Fake_Data_Numpy/mjsw0/sa2\n",
      "./Fake_Data_Numpy/mjsw0/si1010\n",
      "./Fake_Data_Numpy/mjsw0/si1640\n",
      "./Fake_Data_Numpy/mjsw0/si2270\n",
      "./Fake_Data_Numpy/mjsw0/sx110\n",
      "./Fake_Data_Numpy/mjsw0/sx20\n",
      "./Fake_Data_Numpy/mjsw0/sx200\n",
      "./Fake_Data_Numpy/mjsw0/sx290\n",
      "./Fake_Data_Numpy/mjsw0/sx380\n",
      "./Fake_Data_Numpy/mmdb1/sa1\n",
      "./Fake_Data_Numpy/mmdb1/sa2\n",
      "./Fake_Data_Numpy/mmdb1/si2255\n",
      "./Fake_Data_Numpy/mmdb1/si995\n",
      "./Fake_Data_Numpy/mmdb1/sx1625\n",
      "./Fake_Data_Numpy/mmdb1/sx185\n",
      "./Fake_Data_Numpy/mmdb1/sx275\n",
      "./Fake_Data_Numpy/mmdb1/sx365\n",
      "./Fake_Data_Numpy/mmdb1/sx5\n",
      "./Fake_Data_Numpy/mmdb1/sx95\n",
      "./Fake_Data_Numpy/mmdm2/sa1\n",
      "./Fake_Data_Numpy/mmdm2/sa2\n",
      "./Fake_Data_Numpy/mmdm2/si1425\n",
      "./Fake_Data_Numpy/mmdm2/si1555\n",
      "./Fake_Data_Numpy/mmdm2/si2028\n",
      "./Fake_Data_Numpy/mmdm2/sx102\n",
      "./Fake_Data_Numpy/mmdm2/sx12\n",
      "./Fake_Data_Numpy/mmdm2/sx192\n",
      "./Fake_Data_Numpy/mmdm2/sx282\n",
      "./Fake_Data_Numpy/mmdm2/sx372\n",
      "./Fake_Data_Numpy/mpdf0/sa1\n",
      "./Fake_Data_Numpy/mpdf0/sa2\n",
      "./Fake_Data_Numpy/mpdf0/si1542\n",
      "./Fake_Data_Numpy/mpdf0/si2172\n",
      "./Fake_Data_Numpy/mpdf0/si912\n",
      "./Fake_Data_Numpy/mpdf0/sx102\n",
      "./Fake_Data_Numpy/mpdf0/sx12\n",
      "./Fake_Data_Numpy/mpdf0/sx192\n",
      "./Fake_Data_Numpy/mpdf0/sx282\n",
      "./Fake_Data_Numpy/mpdf0/sx372\n",
      "./Fake_Data_Numpy/mpgl0/sa1\n",
      "./Fake_Data_Numpy/mpgl0/sa2\n",
      "./Fake_Data_Numpy/mpgl0/si1099\n",
      "./Fake_Data_Numpy/mpgl0/si1729\n",
      "./Fake_Data_Numpy/mpgl0/si469\n",
      "./Fake_Data_Numpy/mpgl0/sx109\n",
      "./Fake_Data_Numpy/mpgl0/sx19\n",
      "./Fake_Data_Numpy/mpgl0/sx199\n",
      "./Fake_Data_Numpy/mpgl0/sx289\n",
      "./Fake_Data_Numpy/mpgl0/sx379\n",
      "./Fake_Data_Numpy/mrcz0/sa1\n",
      "./Fake_Data_Numpy/mrcz0/sa2\n",
      "./Fake_Data_Numpy/mrcz0/si1541\n",
      "./Fake_Data_Numpy/mrcz0/si2171\n",
      "./Fake_Data_Numpy/mrcz0/si911\n",
      "./Fake_Data_Numpy/mrcz0/sx101\n",
      "./Fake_Data_Numpy/mrcz0/sx11\n",
      "./Fake_Data_Numpy/mrcz0/sx191\n",
      "./Fake_Data_Numpy/mrcz0/sx281\n",
      "./Fake_Data_Numpy/mrcz0/sx371\n",
      "./Fake_Data_Numpy/mrgg0/sa1\n",
      "./Fake_Data_Numpy/mrgg0/sa2\n",
      "./Fake_Data_Numpy/mrgg0/si1199\n",
      "./Fake_Data_Numpy/mrgg0/si1829\n",
      "./Fake_Data_Numpy/mrgg0/si569\n",
      "./Fake_Data_Numpy/mrgg0/sx119\n",
      "./Fake_Data_Numpy/mrgg0/sx209\n",
      "./Fake_Data_Numpy/mrgg0/sx29\n",
      "./Fake_Data_Numpy/mrgg0/sx299\n",
      "./Fake_Data_Numpy/mrgg0/sx389\n",
      "./Fake_Data_Numpy/mrjo0/sa1\n",
      "./Fake_Data_Numpy/mrjo0/sa2\n",
      "./Fake_Data_Numpy/mrjo0/si1364\n",
      "./Fake_Data_Numpy/mrjo0/si1624\n",
      "./Fake_Data_Numpy/mrjo0/si734\n",
      "./Fake_Data_Numpy/mrjo0/sx104\n",
      "./Fake_Data_Numpy/mrjo0/sx14\n",
      "./Fake_Data_Numpy/mrjo0/sx194\n",
      "./Fake_Data_Numpy/mrjo0/sx284\n",
      "./Fake_Data_Numpy/mrjo0/sx374\n",
      "./Fake_Data_Numpy/msjs1/sa1\n",
      "./Fake_Data_Numpy/msjs1/sa2\n",
      "./Fake_Data_Numpy/msjs1/si1899\n",
      "./Fake_Data_Numpy/msjs1/si639\n",
      "./Fake_Data_Numpy/msjs1/si869\n",
      "./Fake_Data_Numpy/msjs1/sx189\n",
      "./Fake_Data_Numpy/msjs1/sx279\n",
      "./Fake_Data_Numpy/msjs1/sx369\n",
      "./Fake_Data_Numpy/msjs1/sx9\n",
      "./Fake_Data_Numpy/msjs1/sx99\n",
      "./Fake_Data_Numpy/mstk0/sa1\n",
      "./Fake_Data_Numpy/mstk0/sa2\n",
      "./Fake_Data_Numpy/mstk0/si1024\n",
      "./Fake_Data_Numpy/mstk0/si2222\n",
      "./Fake_Data_Numpy/mstk0/si2284\n",
      "./Fake_Data_Numpy/mstk0/sx124\n",
      "./Fake_Data_Numpy/mstk0/sx214\n",
      "./Fake_Data_Numpy/mstk0/sx304\n",
      "./Fake_Data_Numpy/mstk0/sx34\n",
      "./Fake_Data_Numpy/mstk0/sx394\n",
      "./Fake_Data_Numpy/mwbt0/sa1\n",
      "./Fake_Data_Numpy/mwbt0/sa2\n",
      "./Fake_Data_Numpy/mwbt0/si1553\n",
      "./Fake_Data_Numpy/mwbt0/si2183\n",
      "./Fake_Data_Numpy/mwbt0/si923\n",
      "./Fake_Data_Numpy/mwbt0/sx113\n",
      "./Fake_Data_Numpy/mwbt0/sx203\n",
      "./Fake_Data_Numpy/mwbt0/sx23\n",
      "./Fake_Data_Numpy/mwbt0/sx293\n",
      "./Fake_Data_Numpy/mwbt0/sx383\n"
     ]
    }
   ],
   "source": [
    "for subject in fake_data_dir:\n",
    "    \n",
    "    os.makedirs('./Fake_Data_Numpy/'+ subject, exist_ok=True)\n",
    "    sub_path = path + subject\n",
    "\n",
    "    for video in os.listdir(sub_path):\n",
    "        if video.endswith('.avi'):\n",
    "            array = video_to_numpy(sub_path + '/' + video)\n",
    "            video_path = './Fake_Data_Numpy/'+ subject + '/' + video.split(sep = '-')[0]\n",
    "            np.savez_compressed(video_path, array)\n",
    "            print(video_path)\n"
   ]
  },
  {
   "cell_type": "code",
   "execution_count": null,
   "id": "07e09c69-ca5b-4b2d-8835-6ca7c6731e8d",
   "metadata": {},
   "outputs": [],
   "source": []
  },
  {
   "cell_type": "markdown",
   "id": "ff6e5612-a8c5-4cb2-acbc-3536e65467ec",
   "metadata": {},
   "source": [
    "## ***Following same steps for the real dataset however in this case we have frames instead of the video***"
   ]
  },
  {
   "cell_type": "code",
   "execution_count": 123,
   "id": "715082b4-6bda-4007-a4d5-1777d18fe78c",
   "metadata": {},
   "outputs": [],
   "source": [
    "path = 'Real_Data/Extracted/'"
   ]
  },
  {
   "cell_type": "code",
   "execution_count": 77,
   "id": "5286464f-af40-4e1e-814f-98b6100d63ed",
   "metadata": {},
   "outputs": [],
   "source": [
    "real_dir = os.listdir('Real_Data/Extracted/') "
   ]
  },
  {
   "cell_type": "code",
   "execution_count": 89,
   "id": "c2d88f52-5032-4371-87d6-cd70312f3112",
   "metadata": {
    "collapsed": true,
    "jupyter": {
     "outputs_hidden": true
    }
   },
   "outputs": [
    {
     "data": {
      "text/plain": [
       "['head',\n",
       " 'head2',\n",
       " 'head3',\n",
       " 'sa1',\n",
       " 'sa2',\n",
       " 'si1279',\n",
       " 'si1909',\n",
       " 'si649',\n",
       " 'sx109',\n",
       " 'sx19',\n",
       " 'sx199',\n",
       " 'sx289',\n",
       " 'sx379']"
      ]
     },
     "execution_count": 89,
     "metadata": {},
     "output_type": "execute_result"
    }
   ],
   "source": [
    "os.listdir(path + real_dir[0] + '/video/')"
   ]
  },
  {
   "cell_type": "code",
   "execution_count": 79,
   "id": "33708537-4923-45d6-a3c7-5628ba99587f",
   "metadata": {
    "collapsed": true,
    "jupyter": {
     "outputs_hidden": true
    },
    "scrolled": true
   },
   "outputs": [
    {
     "data": {
      "text/plain": [
       "['fadg0',\n",
       " 'faks0',\n",
       " 'fcft0',\n",
       " 'fcmh0',\n",
       " 'fdac1',\n",
       " 'fdrd1',\n",
       " 'fedw0',\n",
       " 'felc0',\n",
       " 'fjas0',\n",
       " 'fjem0',\n",
       " 'fjre0',\n",
       " 'fjwb0',\n",
       " 'fkms0',\n",
       " 'fram1',\n",
       " 'mccs0',\n",
       " 'mcem0',\n",
       " 'mdab0',\n",
       " 'mdbb0',\n",
       " 'mdld0',\n",
       " 'mgwt0',\n",
       " 'mjar0',\n",
       " 'mjsw0',\n",
       " 'mmdb1',\n",
       " 'mmdm2',\n",
       " 'mpdf0',\n",
       " 'mpgl0',\n",
       " 'mrcz0',\n",
       " 'mrgg0',\n",
       " 'mrjo0',\n",
       " 'msjs1',\n",
       " 'mstk0',\n",
       " 'mwbt0']"
      ]
     },
     "execution_count": 79,
     "metadata": {},
     "output_type": "execute_result"
    }
   ],
   "source": [
    "real_dir"
   ]
  },
  {
   "cell_type": "code",
   "execution_count": 109,
   "id": "c5a20f7f-7de9-4299-9016-7e874583aebb",
   "metadata": {},
   "outputs": [],
   "source": [
    "def image_to_numpy(path):\n",
    "    array_list = []\n",
    "    images = os.listdir(path)\n",
    "    for image in images:\n",
    "        img_path = path + '/' + image\n",
    "        frame = cv2.imread(img_path)\n",
    "        if frame is None or frame.size == 0:\n",
    "            continue\n",
    "        frame = cv2.cvtColor(frame,cv2.COLOR_BGR2RGB)\n",
    "        \n",
    "        face = detector.detect_faces(frame)\n",
    "        if not face :\n",
    "            continue\n",
    "        col_1, row_1, col_2, row_2 = face[0]['box']\n",
    "        col_1_, row_1_, col_2_, row_2_ = col_1 - 30, row_1 - 60, col_2 + col_1 + 30, row_2 + row_1 + 20\n",
    "        frame = frame[row_1_ : row_2_, col_1_ : col_2_]\n",
    "           \n",
    "            \n",
    "        frame = cv2.resize(frame, dsize = (224,224))/255.0\n",
    "        array_list.append(frame)\n",
    "\n",
    "    return np.array(array_list)\n",
    "        "
   ]
  },
  {
   "cell_type": "code",
   "execution_count": 139,
   "id": "5c31b328-049a-441c-a5d3-bb08ec478450",
   "metadata": {},
   "outputs": [
    {
     "data": {
      "text/plain": [
       "['mmdm2',\n",
       " 'mpdf0',\n",
       " 'mpgl0',\n",
       " 'mrcz0',\n",
       " 'mrgg0',\n",
       " 'mrjo0',\n",
       " 'msjs1',\n",
       " 'mstk0',\n",
       " 'mwbt0']"
      ]
     },
     "execution_count": 139,
     "metadata": {},
     "output_type": "execute_result"
    }
   ],
   "source": [
    "real_dir[23:]"
   ]
  },
  {
   "cell_type": "code",
   "execution_count": 140,
   "id": "262eba8a-7aae-4fd4-8e15-b7ca32127d85",
   "metadata": {
    "scrolled": true
   },
   "outputs": [
    {
     "name": "stdout",
     "output_type": "stream",
     "text": [
      "Real_Data_Numpy/mmdm2/sa1\n",
      "Real_Data_Numpy/mmdm2/sa2\n",
      "Real_Data_Numpy/mmdm2/si1425\n",
      "Real_Data_Numpy/mmdm2/si1555\n",
      "Real_Data_Numpy/mmdm2/si2028\n",
      "Real_Data_Numpy/mmdm2/sx102\n",
      "Real_Data_Numpy/mmdm2/sx12\n",
      "Real_Data_Numpy/mmdm2/sx192\n",
      "Real_Data_Numpy/mmdm2/sx282\n",
      "Real_Data_Numpy/mmdm2/sx372\n",
      "Real_Data_Numpy/mpdf0/sa1\n",
      "Real_Data_Numpy/mpdf0/sa2\n",
      "Real_Data_Numpy/mpdf0/si1542\n",
      "Real_Data_Numpy/mpdf0/si2172\n",
      "Real_Data_Numpy/mpdf0/si912\n",
      "Real_Data_Numpy/mpdf0/sx102\n",
      "Real_Data_Numpy/mpdf0/sx12\n",
      "Real_Data_Numpy/mpdf0/sx192\n",
      "Real_Data_Numpy/mpdf0/sx282\n",
      "Real_Data_Numpy/mpdf0/sx372\n",
      "Real_Data_Numpy/mpgl0/sa1\n",
      "Real_Data_Numpy/mpgl0/sa2\n",
      "Real_Data_Numpy/mpgl0/si1099\n",
      "Real_Data_Numpy/mpgl0/si1729\n",
      "Real_Data_Numpy/mpgl0/si469\n",
      "Real_Data_Numpy/mpgl0/sx109\n",
      "Real_Data_Numpy/mpgl0/sx19\n",
      "Real_Data_Numpy/mpgl0/sx199\n",
      "Real_Data_Numpy/mpgl0/sx289\n",
      "Real_Data_Numpy/mpgl0/sx379\n",
      "Real_Data_Numpy/mrcz0/sa1\n",
      "Real_Data_Numpy/mrcz0/sa2\n",
      "Real_Data_Numpy/mrcz0/si1541\n",
      "Real_Data_Numpy/mrcz0/si2171\n",
      "Real_Data_Numpy/mrcz0/si911\n",
      "Real_Data_Numpy/mrcz0/sx101\n",
      "Real_Data_Numpy/mrcz0/sx11\n",
      "Real_Data_Numpy/mrcz0/sx191\n",
      "Real_Data_Numpy/mrcz0/sx281\n",
      "Real_Data_Numpy/mrcz0/sx371\n",
      "Real_Data_Numpy/mrgg0/sa1\n",
      "Real_Data_Numpy/mrgg0/sa2\n",
      "Real_Data_Numpy/mrgg0/si1199\n",
      "Real_Data_Numpy/mrgg0/si1829\n",
      "Real_Data_Numpy/mrgg0/si569\n",
      "Real_Data_Numpy/mrgg0/sx119\n",
      "Real_Data_Numpy/mrgg0/sx209\n",
      "Real_Data_Numpy/mrgg0/sx29\n",
      "Real_Data_Numpy/mrgg0/sx299\n",
      "Real_Data_Numpy/mrgg0/sx389\n",
      "Real_Data_Numpy/mrjo0/sa1\n",
      "Real_Data_Numpy/mrjo0/sa2\n",
      "Real_Data_Numpy/mrjo0/si1364\n",
      "Real_Data_Numpy/mrjo0/si1624\n",
      "Real_Data_Numpy/mrjo0/si734\n",
      "Real_Data_Numpy/mrjo0/sx104\n",
      "Real_Data_Numpy/mrjo0/sx14\n",
      "Real_Data_Numpy/mrjo0/sx194\n",
      "Real_Data_Numpy/mrjo0/sx284\n",
      "Real_Data_Numpy/mrjo0/sx374\n",
      "Real_Data_Numpy/msjs1/sa1\n",
      "Real_Data_Numpy/msjs1/sa2\n",
      "Real_Data_Numpy/msjs1/si1899\n",
      "Real_Data_Numpy/msjs1/si639\n",
      "Real_Data_Numpy/msjs1/si869\n",
      "Real_Data_Numpy/msjs1/sx189\n",
      "Real_Data_Numpy/msjs1/sx279\n",
      "Real_Data_Numpy/msjs1/sx369\n",
      "Real_Data_Numpy/msjs1/sx9\n",
      "Real_Data_Numpy/msjs1/sx99\n",
      "Real_Data_Numpy/mstk0/sa1\n",
      "Real_Data_Numpy/mstk0/sa2\n",
      "Real_Data_Numpy/mstk0/si1024\n",
      "Real_Data_Numpy/mstk0/si2222\n",
      "Real_Data_Numpy/mstk0/si2284\n",
      "Real_Data_Numpy/mstk0/sx124\n",
      "Real_Data_Numpy/mstk0/sx214\n",
      "Real_Data_Numpy/mstk0/sx304\n",
      "Real_Data_Numpy/mstk0/sx34\n",
      "Real_Data_Numpy/mstk0/sx394\n",
      "Real_Data_Numpy/mwbt0/sa1\n",
      "Real_Data_Numpy/mwbt0/sa2\n",
      "Real_Data_Numpy/mwbt0/si1553\n",
      "Real_Data_Numpy/mwbt0/si2183\n",
      "Real_Data_Numpy/mwbt0/si923\n",
      "Real_Data_Numpy/mwbt0/sx113\n",
      "Real_Data_Numpy/mwbt0/sx203\n",
      "Real_Data_Numpy/mwbt0/sx23\n",
      "Real_Data_Numpy/mwbt0/sx293\n",
      "Real_Data_Numpy/mwbt0/sx383\n"
     ]
    }
   ],
   "source": [
    "for subject in real_dir[23:]:\n",
    "    os.makedirs('./Real_Data_Numpy/' + subject, exist_ok=True)\n",
    "    sub_path = path + subject + '/video/'\n",
    "    for category in os.listdir(sub_path)[3:]:\n",
    "        category_path = 'Real_Data_Numpy/' + subject + '/' + category\n",
    "        array = image_to_numpy(sub_path + category)\n",
    "        np.savez_compressed(category_path,array)\n",
    "        print(category_path)\n",
    "    "
   ]
  },
  {
   "cell_type": "code",
   "execution_count": null,
   "id": "da74e150-bced-4cb6-94f3-9db7f62724ab",
   "metadata": {},
   "outputs": [],
   "source": []
  },
  {
   "cell_type": "code",
   "execution_count": null,
   "id": "a05aaeb8-f428-4752-b4e0-64811fd4bf4a",
   "metadata": {},
   "outputs": [],
   "source": []
  },
  {
   "cell_type": "code",
   "execution_count": 3,
   "id": "a0739a06-88c7-4d0a-8113-011ff945df68",
   "metadata": {},
   "outputs": [],
   "source": [
    "fake_dir = os.listdir(\"Fake_Data_Numpy/\")"
   ]
  },
  {
   "cell_type": "code",
   "execution_count": 78,
   "id": "ce90e59a-f541-4cd3-98eb-41914e5676c8",
   "metadata": {
    "scrolled": true
   },
   "outputs": [
    {
     "name": "stdout",
     "output_type": "stream",
     "text": [
      "fadg0 119\n",
      "fadg0 103\n",
      "fadg0 72\n",
      "fcft0 62\n",
      "fdrd1 61\n",
      "fedw0 57\n",
      "mdab0 56\n",
      "mgwt0 19\n",
      "mjar0 11\n"
     ]
    }
   ],
   "source": [
    "shape_array = np.inf\n",
    "for i in fake_dir:\n",
    "    video_array = os.listdir(\"Fake_Data_Numpy/\" + i)\n",
    "    for j in video_array:\n",
    "\n",
    "        path = \"Fake_Data_Numpy/\" + i +'/' + j\n",
    "        array = np.load(path)['arr_0']\n",
    "        if array.shape[0]<shape_array:\n",
    "            shape_array = array.shape[0]\n",
    "            del(array)\n",
    "            print(i, shape_array)\n",
    "        "
   ]
  },
  {
   "cell_type": "code",
   "execution_count": 1,
   "id": "fd4f94c1-539e-4a08-8e99-3135319a0d70",
   "metadata": {},
   "outputs": [],
   "source": []
  },
  {
   "cell_type": "code",
   "execution_count": null,
   "id": "842c729d-62b0-4540-942c-37bcc1043e5a",
   "metadata": {},
   "outputs": [],
   "source": []
  },
  {
   "cell_type": "markdown",
   "id": "2df2abf6-6bd5-42e5-b014-21af2308c2e8",
   "metadata": {},
   "source": [
    "## ***Model building and training***"
   ]
  },
  {
   "cell_type": "code",
   "execution_count": 2,
   "id": "9dd2f836-f003-44e5-9e2a-3ef3461315e5",
   "metadata": {},
   "outputs": [],
   "source": [
    "def data_gen(fake_list, real_list, batch_size, frame_threshold,type_):\n",
    "\n",
    "    '''fake_list : list of paths of the videos in the fake data directory\n",
    "        real_list : list of paths of the videos in the real data directory\n",
    "        batch_size : integer, number of videos to be fetch\n",
    "        frame_threshold : integer, number of frames to keep in all videos. Padding will be done automatically\n",
    "        \n",
    "        Return: return a tuple (data, labels)'''\n",
    "\n",
    "    num_videos = len(fake_list)\n",
    "    real_data_index = np.random.permutation(np.arange(0,num_videos))\n",
    "    fake_data_index = np.random.permutation(np.arange(0,num_videos))\n",
    "    count = 0\n",
    "\n",
    "    while True:\n",
    "\n",
    "        fake_data_array = np.zeros(shape = (batch_size//2,frame_threshold,224,224,3))\n",
    "        real_data_array = np.zeros(shape = (batch_size//2, frame_threshold, 224,224,3))\n",
    "\n",
    "        fake_labels = np.ones(shape = batch_size//2, dtype = int)\n",
    "        real_labels = np.zeros(shape = batch_size//2, dtype = int)\n",
    "        \n",
    "        for i in range(batch_size//2):\n",
    "            \n",
    "\n",
    "            fake_array = np.load(fake_list[fake_data_index[count]])['arr_0']\n",
    "            real_array = np.load(real_list[real_data_index[count]])['arr_0']\n",
    "\n",
    "\n",
    "            # Keeping the number of frames to be same by either slicing the video or adding padding to the video\n",
    "\n",
    "            if fake_array.shape[0] < frame_threshold: # Padding to fake video\n",
    "                remaining_frames = frame_threshold - fake_array.shape[0]             \n",
    "                fake_array = np.concatenate([fake_array,np.zeros(shape = (remaining_frames,224,224,3))], axis = 0)\n",
    "\n",
    "            if fake_array.shape[0] > frame_threshold: # slicing the fake video\n",
    "                fake_array = fake_array[:frame_threshold]\n",
    "\n",
    "            if real_array.shape[0] < frame_threshold: # Padding to real video\n",
    "                remaining_frames = frame_threshold - real_array.shape[0]\n",
    "                real_array = np.concatenate([real_array,np.zeros(shape = (remaining_frames,224,224,3))], axis = 0)\n",
    "\n",
    "            if real_array.shape[0] > frame_threshold: # slicing the real video\n",
    "                real_array = real_array[:frame_threshold]\n",
    "\n",
    "            fake_data_array[i] = keras.applications.resnet.preprocess_input(fake_array * 255)\n",
    "            real_data_array[i] = keras.applications.resnet.preprocess_input(real_array * 255)\n",
    "                \n",
    "\n",
    "            count = count + 1\n",
    "        \n",
    "            if abs(count - real_data_index.shape[0]) < batch_size:\n",
    "                \n",
    "                real_data_index = np.random.permutation(np.arange(0,num_videos))\n",
    "                fake_data_index = np.random.permutation(np.arange(0,num_videos))\n",
    "                \n",
    "                count = 0\n",
    "\n",
    "        data_array = np.concatenate([fake_data_array, real_data_array], axis = 0)\n",
    "        label_array = np.concatenate([fake_labels, real_labels])\n",
    "        index = np.random.permutation(range(batch_size))\n",
    "        yield (data_array[index], label_array[index])\n"
   ]
  },
  {
   "cell_type": "code",
   "execution_count": 3,
   "id": "0a581c1e-3a88-4819-80b7-74332913c144",
   "metadata": {},
   "outputs": [],
   "source": [
    "fake_data_array = np.array([], dtype = 'object')\n",
    "for i,j,k in os.walk('Fake_Data_Numpy'):\n",
    "    temp = i + '/' + np.array(k, dtype = 'object')\n",
    "    fake_data_array = np.append(fake_data_array,temp)"
   ]
  },
  {
   "cell_type": "code",
   "execution_count": 4,
   "id": "8869dff9-db3b-4c8a-a4ef-2c062553c275",
   "metadata": {},
   "outputs": [],
   "source": [
    "real_data_array = np.array([], dtype = 'object')\n",
    "for i,j,k in os.walk('Real_Data_Numpy/'):\n",
    "    temp = i + '/' + np.array(k, dtype = 'object')\n",
    "    real_data_array = np.append(real_data_array,temp)"
   ]
  },
  {
   "cell_type": "code",
   "execution_count": 5,
   "id": "53331417-0ba8-4d77-8dbc-0d823384c9b2",
   "metadata": {},
   "outputs": [],
   "source": [
    "batch_size = 4\n",
    "n_frame = 80"
   ]
  },
  {
   "cell_type": "code",
   "execution_count": 6,
   "id": "4ea9f8d5-d86c-4067-8924-0d50454a0014",
   "metadata": {},
   "outputs": [],
   "source": [
    "l2 = keras.regularizers.l2"
   ]
  },
  {
   "cell_type": "code",
   "execution_count": 7,
   "id": "3db7db92-fd4b-4154-85e2-9d5897fa0577",
   "metadata": {},
   "outputs": [],
   "source": [
    "def network(reg):\n",
    "    input_ = keras.layers.Input(shape = (n_frame, 224,224,3))\n",
    "    resnet = keras.applications.ResNet101(include_top=False)\n",
    "    resnet.trainable = False\n",
    "\n",
    "    x = keras.layers.TimeDistributed(resnet)(input_)\n",
    "    x = keras.layers.TimeDistributed(keras.layers.Flatten())(x)\n",
    "    x = keras.layers.TimeDistributed(keras.layers.BatchNormalization())(x)\n",
    "    x = keras.layers.LSTM(64, kernel_regularizer=l2(l2 = 2))(x)\n",
    "    x = keras.layers.Dense(units = 1,activation='sigmoid', kernel_regularizer=  l2(l2 = reg))(x) \n",
    "    \n",
    "    return keras.models.Model(input_, x)\n",
    "    \n",
    "    "
   ]
  },
  {
   "cell_type": "code",
   "execution_count": 8,
   "id": "9c98f7d1-7c3e-4fb1-92b3-c8ccc8232f63",
   "metadata": {},
   "outputs": [],
   "source": [
    "adam = keras.optimizers.Adam(learning_rate=10**(-6))"
   ]
  },
  {
   "cell_type": "code",
   "execution_count": 9,
   "id": "a9f54c6d-2da1-417d-8d29-8f2ef6de473d",
   "metadata": {},
   "outputs": [],
   "source": [
    "training_size = int(fake_data_array.shape[0]  * 0.8)\n",
    "validation_size = int(fake_data_array.shape[0] * 0.2)"
   ]
  },
  {
   "cell_type": "code",
   "execution_count": 10,
   "id": "2cec4930-265d-4522-aa1b-2ab000daa50b",
   "metadata": {},
   "outputs": [],
   "source": [
    "training_gen = data_gen(fake_data_array[:training_size], real_data_array[:training_size],batch_size,n_frame,type_='training')\n",
    "validation_gen = data_gen(fake_data_array[training_size : training_size + validation_size], real_data_array[training_size : training_size + validation_size], batch_size, n_frame, type_ = 'val')"
   ]
  },
  {
   "cell_type": "code",
   "execution_count": 12,
   "id": "f002658b-b6a7-46a9-b40f-e10adfdb6618",
   "metadata": {},
   "outputs": [
    {
     "name": "stdout",
     "output_type": "stream",
     "text": [
      "Epoch 1/4\n",
      "128/128 [==============================] - 291s 2s/step - loss: 814.6274 - accuracy: 0.6602 - val_loss: 628.5115 - val_accuracy: 0.7422\n",
      "Epoch 2/4\n",
      "128/128 [==============================] - 303s 2s/step - loss: 493.5128 - accuracy: 0.8867 - val_loss: 376.2021 - val_accuracy: 0.8750\n",
      "Epoch 3/4\n",
      "128/128 [==============================] - 294s 2s/step - loss: 292.0004 - accuracy: 0.9629 - val_loss: 219.4930 - val_accuracy: 0.9219\n",
      "Epoch 4/4\n",
      "128/128 [==============================] - 293s 2s/step - loss: 168.3195 - accuracy: 0.9766 - val_loss: 124.7966 - val_accuracy: 0.9531\n"
     ]
    },
    {
     "data": {
      "text/plain": [
       "<keras.callbacks.History at 0x27e0fb93fd0>"
      ]
     },
     "execution_count": 12,
     "metadata": {},
     "output_type": "execute_result"
    }
   ],
   "source": [
    "\n",
    "#LSTM regularization 2\n",
    "# dense regularization 3\n",
    "model = network(reg = 3)\n",
    "model.compile(optimizer=adam, loss = 'binary_crossentropy', metrics=['accuracy'])\n",
    "model.fit(training_gen, epochs=4, steps_per_epoch=128, validation_data= validation_gen, validation_steps = 32)"
   ]
  },
  {
   "cell_type": "code",
   "execution_count": 15,
   "id": "e4020522-6300-434d-a654-727cfc89fcca",
   "metadata": {},
   "outputs": [
    {
     "name": "stdout",
     "output_type": "stream",
     "text": [
      "Epoch 1/2\n",
      "128/128 [==============================] - 285s 2s/step - loss: 94.6329 - accuracy: 0.9883 - val_loss: 69.4016 - val_accuracy: 0.9609\n",
      "Epoch 2/2\n",
      "128/128 [==============================] - 283s 2s/step - loss: 52.2834 - accuracy: 0.9941 - val_loss: 38.2479 - val_accuracy: 0.9688\n"
     ]
    },
    {
     "data": {
      "text/plain": [
       "<keras.callbacks.History at 0x1a08c5de6b0>"
      ]
     },
     "execution_count": 15,
     "metadata": {},
     "output_type": "execute_result"
    }
   ],
   "source": [
    "\n",
    "#LSTM regularization 2\n",
    "# dense regularization 3\n",
    "\n",
    "model.compile(optimizer=adam, loss = 'binary_crossentropy', metrics=['accuracy'])\n",
    "model.fit(training_gen, epochs=2, steps_per_epoch=128, validation_data= validation_gen, validation_steps = 32)"
   ]
  },
  {
   "cell_type": "code",
   "execution_count": 11,
   "id": "687dfae1-79e6-4eec-85a8-7fc471a9640d",
   "metadata": {},
   "outputs": [
    {
     "data": {
      "text/plain": [
       "<tensorflow.python.checkpoint.checkpoint.CheckpointLoadStatus at 0x2848f600d30>"
      ]
     },
     "execution_count": 11,
     "metadata": {},
     "output_type": "execute_result"
    }
   ],
   "source": [
    "model = network(reg = 3)\n",
    "model.load_weights('DeepFace Detection Project\\DeepFace Detection Project')"
   ]
  },
  {
   "cell_type": "code",
   "execution_count": 32,
   "id": "e119a96f-e8c1-482c-9b48-a4411809c0c0",
   "metadata": {},
   "outputs": [
    {
     "name": "stdout",
     "output_type": "stream",
     "text": [
      "1/1 [==============================] - 0s 169ms/step\n"
     ]
    },
    {
     "data": {
      "text/plain": [
       "array([[0.9398294 ],\n",
       "       [0.06383621],\n",
       "       [0.06362068],\n",
       "       [0.90891445]], dtype=float32)"
      ]
     },
     "execution_count": 32,
     "metadata": {},
     "output_type": "execute_result"
    }
   ],
   "source": [
    "batch = next(training_gen)\n",
    "model.predict(batch[0])"
   ]
  },
  {
   "cell_type": "code",
   "execution_count": 33,
   "id": "b69fbc3e-2b09-423e-b7f1-bf660968f47f",
   "metadata": {},
   "outputs": [
    {
     "data": {
      "text/plain": [
       "array([1, 0, 0, 1])"
      ]
     },
     "execution_count": 33,
     "metadata": {},
     "output_type": "execute_result"
    }
   ],
   "source": [
    "batch[1]"
   ]
  }
 ],
 "metadata": {
  "kernelspec": {
   "display_name": "Python 3 (ipykernel)",
   "language": "python",
   "name": "python3"
  },
  "language_info": {
   "codemirror_mode": {
    "name": "ipython",
    "version": 3
   },
   "file_extension": ".py",
   "mimetype": "text/x-python",
   "name": "python",
   "nbconvert_exporter": "python",
   "pygments_lexer": "ipython3",
   "version": "3.10.16"
  }
 },
 "nbformat": 4,
 "nbformat_minor": 5
}
